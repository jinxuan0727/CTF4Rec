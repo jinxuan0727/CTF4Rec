{
 "cells": [
  {
   "cell_type": "code",
   "execution_count": 1,
   "metadata": {},
   "outputs": [],
   "source": [
    "import pandas as pd\n",
    "import numpy as np\n",
    "\n",
    "raw_data = pd.read_csv(\"ml-20m.inter\", sep=\"\\t\")"
   ]
  },
  {
   "cell_type": "code",
   "execution_count": 5,
   "metadata": {},
   "outputs": [
    {
     "name": "stdout",
     "output_type": "stream",
     "text": [
      "          user_id:token  item_id:token  rating:float  timestamp:float\n",
      "0                     1              2           3.5       1112486027\n",
      "1                     1             29           3.5       1112484676\n",
      "2                     1             32           3.5       1112484819\n",
      "3                     1             47           3.5       1112484727\n",
      "4                     1             50           3.5       1112484580\n",
      "...                 ...            ...           ...              ...\n",
      "20000258         138493          68954           4.5       1258126920\n",
      "20000259         138493          69526           4.5       1259865108\n",
      "20000260         138493          69644           3.0       1260209457\n",
      "20000261         138493          70286           5.0       1258126944\n",
      "20000262         138493          71619           2.5       1255811136\n",
      "\n",
      "[20000263 rows x 4 columns]\n",
      "inter:  20000263 U:  138493 I:  26744\n"
     ]
    }
   ],
   "source": [
    "print(raw_data)\n",
    "# print interaction num\n",
    "print(\"inter: \", len(raw_data), \"U: \", len(raw_data[\"user_id:token\"].unique()), \"I: \", len(raw_data[\"item_id:token\"].unique()))"
   ]
  },
  {
   "cell_type": "code",
   "execution_count": 6,
   "metadata": {},
   "outputs": [
    {
     "name": "stdout",
     "output_type": "stream",
     "text": [
      "inter:  4433484 U:  136472 I:  17218\n",
      "inter:  4378719 U:  120685 I:  10810\n"
     ]
    }
   ],
   "source": [
    "raw_data = raw_data.loc[raw_data[\"rating:float\"]>4]\n",
    "print(\"inter: \", len(raw_data), \"U: \", len(raw_data[\"user_id:token\"].unique()), \"I: \", len(raw_data[\"item_id:token\"].unique()))\n",
    "# 5-Core Filter\n",
    "from collections import Counter\n",
    "user_id_list = raw_data[\"item_id:token\"].tolist()\n",
    "user_id_count = Counter(user_id_list)\n",
    "user_id_remove = [item_id for item_id, count in user_id_count.items() if count < 5]\n",
    "raw_data = raw_data[~raw_data[\"item_id:token\"].isin(user_id_remove)]\n",
    "\n",
    "user_id_list = raw_data[\"user_id:token\"].tolist()\n",
    "user_id_count = Counter(user_id_list)\n",
    "user_id_remove = [user_id for user_id, count in user_id_count.items() if count < 5]\n",
    "raw_data = raw_data[~raw_data[\"user_id:token\"].isin(user_id_remove)]\n",
    "\n",
    "print(\"inter: \", len(raw_data), \"U: \", len(raw_data[\"user_id:token\"].unique()), \"I: \", len(raw_data[\"item_id:token\"].unique()))"
   ]
  },
  {
   "cell_type": "code",
   "execution_count": 5,
   "metadata": {},
   "outputs": [],
   "source": [
    "raw_data_grouped = raw_data.groupby(\"user_id:token\").agg(\n",
    "    item_seq = pd.NamedAgg(column='item_id:token', aggfunc=list),\n",
    "    time_seq = pd.NamedAgg(column='timestamp:float', aggfunc=list)\n",
    "    )"
   ]
  },
  {
   "cell_type": "code",
   "execution_count": 6,
   "metadata": {},
   "outputs": [],
   "source": [
    "for row in raw_data_grouped.index:\n",
    "    seq = raw_data_grouped.loc[row, \"item_seq\"]\n",
    "    time_seq = np.asarray(raw_data_grouped.loc[row, \"time_seq\"])\n",
    "    unique_seq = []\n",
    "    unique_indicies = []\n",
    "    for idx, i in enumerate(seq):\n",
    "        if i not in unique_seq:\n",
    "            unique_seq.append(i)\n",
    "            unique_indicies.append(idx)\n",
    "    time_seq = time_seq[unique_indicies]\n",
    "    # sort\n",
    "    sorted_indicies = np.argsort(time_seq)\n",
    "    raw_data_grouped.at[row, \"item_seq\"] = np.asarray(unique_seq)[sorted_indicies]\n",
    "    raw_data_grouped.at[row, \"time_seq\"] = time_seq[sorted_indicies]"
   ]
  },
  {
   "cell_type": "code",
   "execution_count": 7,
   "metadata": {},
   "outputs": [],
   "source": [
    "indices_to_drop = list()\n",
    "for idx in raw_data_grouped.index:\n",
    "    item_seq = raw_data_grouped.loc[idx, \"item_seq\"]\n",
    "    if len(item_seq)<3 or len(item_seq)>51:\n",
    "        indices_to_drop.append(idx)\n",
    "\n",
    "raw_data_grouped.drop(index=indices_to_drop, inplace=True)\n",
    "raw_data_grouped.reset_index(inplace=True)"
   ]
  },
  {
   "cell_type": "code",
   "execution_count": 8,
   "metadata": {},
   "outputs": [
    {
     "data": {
      "text/html": [
       "<div>\n",
       "<style scoped>\n",
       "    .dataframe tbody tr th:only-of-type {\n",
       "        vertical-align: middle;\n",
       "    }\n",
       "\n",
       "    .dataframe tbody tr th {\n",
       "        vertical-align: top;\n",
       "    }\n",
       "\n",
       "    .dataframe thead th {\n",
       "        text-align: right;\n",
       "    }\n",
       "</style>\n",
       "<table border=\"1\" class=\"dataframe\">\n",
       "  <thead>\n",
       "    <tr style=\"text-align: right;\">\n",
       "      <th></th>\n",
       "      <th>user_id:token</th>\n",
       "      <th>item_seq</th>\n",
       "      <th>time_seq</th>\n",
       "    </tr>\n",
       "  </thead>\n",
       "  <tbody>\n",
       "    <tr>\n",
       "      <th>0</th>\n",
       "      <td>1</td>\n",
       "      <td>[8507, 5952, 1198, 7153, 4993, 1196, 8636]</td>\n",
       "      <td>[1094786027, 1112484619, 1112484624, 111248463...</td>\n",
       "    </tr>\n",
       "    <tr>\n",
       "      <th>1</th>\n",
       "      <td>2</td>\n",
       "      <td>[62, 1974, 1356, 1210, 589, 3513, 2948, 1259, ...</td>\n",
       "      <td>[974820598, 974820598, 974820598, 974820598, 9...</td>\n",
       "    </tr>\n",
       "    <tr>\n",
       "      <th>2</th>\n",
       "      <td>5</td>\n",
       "      <td>[62, 141, 780, 736, 671, 832, 1393, 590, 150, ...</td>\n",
       "      <td>[851526935, 851526935, 851526935, 851526935, 8...</td>\n",
       "    </tr>\n",
       "    <tr>\n",
       "      <th>3</th>\n",
       "      <td>6</td>\n",
       "      <td>[1, 17, 62, 141, 648, 7, 52]</td>\n",
       "      <td>[858275452, 858275452, 858275452, 858275452, 8...</td>\n",
       "    </tr>\n",
       "    <tr>\n",
       "      <th>4</th>\n",
       "      <td>7</td>\n",
       "      <td>[1196, 912, 1210, 4963, 4306, 1256, 4799, 2028...</td>\n",
       "      <td>[1011204572, 1011204596, 1011204654, 101120477...</td>\n",
       "    </tr>\n",
       "    <tr>\n",
       "      <th>...</th>\n",
       "      <td>...</td>\n",
       "      <td>...</td>\n",
       "      <td>...</td>\n",
       "    </tr>\n",
       "    <tr>\n",
       "      <th>96721</th>\n",
       "      <td>138485</td>\n",
       "      <td>[79132, 2571, 48780, 858, 1221, 58559, 2959, 2...</td>\n",
       "      <td>[1346728359, 1346728363, 1346728381, 134672840...</td>\n",
       "    </tr>\n",
       "    <tr>\n",
       "      <th>96722</th>\n",
       "      <td>138487</td>\n",
       "      <td>[866, 1172, 3094, 920, 2067, 265, 446, 25, 129...</td>\n",
       "      <td>[965499200, 965499200, 965499234, 965499258, 9...</td>\n",
       "    </tr>\n",
       "    <tr>\n",
       "      <th>96723</th>\n",
       "      <td>138489</td>\n",
       "      <td>[318, 858, 50, 2019, 912, 1221, 1193, 1212, 29...</td>\n",
       "      <td>[1352989275, 1352989278, 1352989283, 135298928...</td>\n",
       "    </tr>\n",
       "    <tr>\n",
       "      <th>96724</th>\n",
       "      <td>138490</td>\n",
       "      <td>[111, 3217, 1535, 593, 1041, 3006, 34, 314, 32...</td>\n",
       "      <td>[975542655, 975542655, 975542860, 975543071, 9...</td>\n",
       "    </tr>\n",
       "    <tr>\n",
       "      <th>96725</th>\n",
       "      <td>138492</td>\n",
       "      <td>[58, 2599, 1500, 1358, 1288, 1732, 1252, 4973,...</td>\n",
       "      <td>[1115296602, 1115296616, 1115296620, 111529663...</td>\n",
       "    </tr>\n",
       "  </tbody>\n",
       "</table>\n",
       "<p>96726 rows × 3 columns</p>\n",
       "</div>"
      ],
      "text/plain": [
       "       user_id:token                                           item_seq  \\\n",
       "0                  1         [8507, 5952, 1198, 7153, 4993, 1196, 8636]   \n",
       "1                  2  [62, 1974, 1356, 1210, 589, 3513, 2948, 1259, ...   \n",
       "2                  5  [62, 141, 780, 736, 671, 832, 1393, 590, 150, ...   \n",
       "3                  6                       [1, 17, 62, 141, 648, 7, 52]   \n",
       "4                  7  [1196, 912, 1210, 4963, 4306, 1256, 4799, 2028...   \n",
       "...              ...                                                ...   \n",
       "96721         138485  [79132, 2571, 48780, 858, 1221, 58559, 2959, 2...   \n",
       "96722         138487  [866, 1172, 3094, 920, 2067, 265, 446, 25, 129...   \n",
       "96723         138489  [318, 858, 50, 2019, 912, 1221, 1193, 1212, 29...   \n",
       "96724         138490  [111, 3217, 1535, 593, 1041, 3006, 34, 314, 32...   \n",
       "96725         138492  [58, 2599, 1500, 1358, 1288, 1732, 1252, 4973,...   \n",
       "\n",
       "                                                time_seq  \n",
       "0      [1094786027, 1112484619, 1112484624, 111248463...  \n",
       "1      [974820598, 974820598, 974820598, 974820598, 9...  \n",
       "2      [851526935, 851526935, 851526935, 851526935, 8...  \n",
       "3      [858275452, 858275452, 858275452, 858275452, 8...  \n",
       "4      [1011204572, 1011204596, 1011204654, 101120477...  \n",
       "...                                                  ...  \n",
       "96721  [1346728359, 1346728363, 1346728381, 134672840...  \n",
       "96722  [965499200, 965499200, 965499234, 965499258, 9...  \n",
       "96723  [1352989275, 1352989278, 1352989283, 135298928...  \n",
       "96724  [975542655, 975542655, 975542860, 975543071, 9...  \n",
       "96725  [1115296602, 1115296616, 1115296620, 111529663...  \n",
       "\n",
       "[96726 rows x 3 columns]"
      ]
     },
     "execution_count": 8,
     "metadata": {},
     "output_type": "execute_result"
    }
   ],
   "source": [
    "raw_data_grouped"
   ]
  },
  {
   "cell_type": "code",
   "execution_count": 9,
   "metadata": {},
   "outputs": [],
   "source": [
    "all_items = list()\n",
    "for idx in raw_data_grouped.index:\n",
    "    all_items.extend(raw_data_grouped.loc[idx, \"item_seq\"].tolist())\n",
    "all_items = list(set(all_items))\n",
    "item_ids = list(range(1, len(all_items)+1))\n",
    "item_remap = dict()\n",
    "for i in range(len(all_items)):\n",
    "    item_remap[all_items[i]] = item_ids[i]\n",
    "\n",
    "raw_data_grouped[\"item_seq\"] = raw_data_grouped[\"item_seq\"].apply(lambda x:list(map(lambda y:item_remap[y], x.tolist())))"
   ]
  },
  {
   "cell_type": "code",
   "execution_count": 10,
   "metadata": {},
   "outputs": [
    {
     "data": {
      "text/plain": [
       "10154"
      ]
     },
     "execution_count": 10,
     "metadata": {},
     "output_type": "execute_result"
    }
   ],
   "source": [
    "len(all_items)"
   ]
  },
  {
   "cell_type": "code",
   "execution_count": 14,
   "metadata": {},
   "outputs": [],
   "source": [
    "train_file = open(\"ml-20m.train.inter\", \"w\")\n",
    "test_file = open(\"ml-20m.test.inter\", \"w\")\n",
    "\n",
    "train_file.write(\"session_id:token\\titem_id_list:token_seq\\titem_id:token\\n\")\n",
    "test_file.write(\"session_id:token\\titem_id_list:token_seq\\titem_id:token\\n\")\n",
    "\n",
    "for idx in raw_data_grouped.index:\n",
    "    uid = idx\n",
    "    item_seq = raw_data_grouped.loc[idx, \"item_seq\"]\n",
    "    item_seq = list(map(lambda x:str(x), item_seq))\n",
    "    while len(item_seq) > 51:\n",
    "        right_seq = item_seq[51:]\n",
    "        new_seq = item_seq[:51]\n",
    "        test_file.write(f\"{uid}\\t\"+\" \".join(new_seq[:-1])+f\"\\t{new_seq[-1]}\\n\")\n",
    "        train_file.write(f\"{uid}\\t\"+\" \".join(new_seq[:-2])+f\"\\t{new_seq[-2]}\\n\")\n",
    "        item_seq = right_seq\n",
    "    if not len(item_seq) < 3:\n",
    "        test_file.write(f\"{uid}\\t\"+\" \".join(item_seq[:-1])+f\"\\t{item_seq[-1]}\\n\")\n",
    "        train_file.write(f\"{uid}\\t\"+\" \".join(item_seq[:-2])+f\"\\t{item_seq[-2]}\\n\")\n",
    "\n",
    "train_file.close()\n",
    "test_file.close()"
   ]
  }
 ],
 "metadata": {
  "kernelspec": {
   "display_name": "Python 3 (ipykernel)",
   "language": "python",
   "name": "python3"
  },
  "language_info": {
   "codemirror_mode": {
    "name": "ipython",
    "version": 3
   },
   "file_extension": ".py",
   "mimetype": "text/x-python",
   "name": "python",
   "nbconvert_exporter": "python",
   "pygments_lexer": "ipython3",
   "version": "3.9.6"
  },
  "vscode": {
   "interpreter": {
    "hash": "31f2aee4e71d21fbe5cf8b01ff0e069b9275f58929596ceb00d14d90e3e16cd6"
   }
  }
 },
 "nbformat": 4,
 "nbformat_minor": 2
}
